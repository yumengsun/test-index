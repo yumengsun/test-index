{
 "cells": [
  {
   "cell_type": "code",
   "execution_count": 1,
   "metadata": {
    "collapsed": false
   },
   "outputs": [],
   "source": [
    "import random\n",
    "import string\n",
    "\n",
    "# top-level domains\n",
    "TLDS = ('com net org mil edu de biz de ch at ru de tv com st br fr de nl dk ar jp eu it es com us ca pl').split()\n",
    "n_domain = 100000\n",
    "def get_random_domain(TLDS):\n",
    "    return random.choice(TLDS)\n",
    "def random_generator(size=6, chars=string.ascii_lowercase + string.digits):\n",
    "    return ''.join(random.choice(chars) for x in range(size))\n",
    "def generate_domains(nb):\n",
    "    s = set([])\n",
    "    while (len(s)<n_domain):\n",
    "        s.add('@' + random_generator(6) + '.' + get_random_domain(TLDS))\n",
    "    return s\n",
    "\n",
    "dom = generate_domains(n_domain)\n"
   ]
  },
  {
   "cell_type": "code",
   "execution_count": 4,
   "metadata": {
    "collapsed": false
   },
   "outputs": [
    {
     "data": {
      "text/plain": [
       "100000"
      ]
     },
     "execution_count": 4,
     "metadata": {},
     "output_type": "execute_result"
    }
   ],
   "source": [
    "len(dom)"
   ]
  },
  {
   "cell_type": "code",
   "execution_count": 3,
   "metadata": {
    "collapsed": false
   },
   "outputs": [],
   "source": [
    "d = open('domains.csv', 'w')\n",
    "d.write(\"id,domain_name\\n\")\n",
    "for i in range(n_domain):\n",
    "    d.write(\"%d,%s\\n\" % (i+1, list(dom)[i]))\n",
    "d.close()\n"
   ]
  },
  {
   "cell_type": "code",
   "execution_count": 5,
   "metadata": {
    "collapsed": false
   },
   "outputs": [],
   "source": [
    "from datetime import timedelta, date\n",
    "\n",
    "def daterange(start_date, end_date):\n",
    "    for n in range(int ((end_date - start_date).days)):\n",
    "        yield start_date + timedelta(n)\n",
    "\n",
    "start_date = date(2015, 8, 1)\n",
    "end_date = date(2015, 10, 1)\n",
    "dates = []\n",
    "for single_date in daterange(start_date, end_date):\n",
    "    dates.append(single_date.strftime(\"%Y-%m-%d\"))\n"
   ]
  },
  {
   "cell_type": "code",
   "execution_count": 6,
   "metadata": {
    "collapsed": true
   },
   "outputs": [],
   "source": [
    "da = open('dates.csv', 'w')\n",
    "da.write(\"id,date\\n\")\n",
    "for i in range(len(dates)):\n",
    "    da.write(\"%d,%s\\n\" % (i+1, dates[i]))\n",
    "d.close()"
   ]
  },
  {
   "cell_type": "code",
   "execution_count": 7,
   "metadata": {
    "collapsed": false
   },
   "outputs": [],
   "source": [
    "dom_test = list(dom)\n",
    "for i in range(10000000-100000):\n",
    "    dom_test.append(random.choice(dom_test))"
   ]
  },
  {
   "cell_type": "code",
   "execution_count": 17,
   "metadata": {
    "collapsed": false
   },
   "outputs": [],
   "source": [
    "doms = []\n",
    "for s in dom_test:\n",
    "    doms.append(random_generator(2)+s)"
   ]
  },
  {
   "cell_type": "code",
   "execution_count": 18,
   "metadata": {
    "collapsed": true
   },
   "outputs": [],
   "source": [
    "date_test = dates\n",
    "for i in range(len(dom_test)-len(dates)):\n",
    "    date_test.append(random.choice(dates))"
   ]
  },
  {
   "cell_type": "code",
   "execution_count": 20,
   "metadata": {
    "collapsed": true
   },
   "outputs": [],
   "source": [
    "inp = open('input.csv', 'w')\n",
    "inp.write(\"emailAddress,date\\n\")\n",
    "for i in range(len(date_test)):\n",
    "    inp.write(\"%s,%s\\n\" % (doms[i], date_test[i]))\n",
    "inp.close()"
   ]
  },
  {
   "cell_type": "code",
   "execution_count": 19,
   "metadata": {
    "collapsed": false
   },
   "outputs": [
    {
     "data": {
      "text/plain": [
       "'j9@58nb0q.com'"
      ]
     },
     "execution_count": 19,
     "metadata": {},
     "output_type": "execute_result"
    }
   ],
   "source": [
    "doms[2]"
   ]
  },
  {
   "cell_type": "code",
   "execution_count": null,
   "metadata": {
    "collapsed": true
   },
   "outputs": [],
   "source": []
  }
 ],
 "metadata": {
  "kernelspec": {
   "display_name": "Python 2",
   "language": "python",
   "name": "python2"
  },
  "language_info": {
   "codemirror_mode": {
    "name": "ipython",
    "version": 2
   },
   "file_extension": ".py",
   "mimetype": "text/x-python",
   "name": "python",
   "nbconvert_exporter": "python",
   "pygments_lexer": "ipython2",
   "version": "2.7.9"
  }
 },
 "nbformat": 4,
 "nbformat_minor": 0
}
